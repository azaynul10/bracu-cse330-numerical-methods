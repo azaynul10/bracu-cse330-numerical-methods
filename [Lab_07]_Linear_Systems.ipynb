{
  "cells": [
    {
      "cell_type": "markdown",
      "metadata": {
        "deletable": false,
        "editable": false,
        "id": "DMAzOJJAvjb6"
      },
      "source": [
        "Instructions: Make a copy of this notebook and rename into the format `ID.ipynb` (example: `12345678.ipynb`). Read all the comments and write appropriate code after any place that says `# YOUR CODE HERE`. When the daily evaluation tasks are revealed, append their solutions at the end of this notebook."
      ]
    },
    {
      "cell_type": "markdown",
      "metadata": {
        "deletable": false,
        "editable": false,
        "id": "wwuJllZf2gbd"
      },
      "source": [
        "Instructions: Make a copy of this notebook and rename into the format `ID.ipynb` (example: `12345678.ipynb`). Read all the comments and write appropriate code after any place that says `# YOUR CODE HERE`. When the daily evaluation tasks are revealed, append their solutions at the end of this notebook."
      ]
    },
    {
      "cell_type": "markdown",
      "metadata": {
        "deletable": false,
        "editable": false,
        "id": "cbYDwRgN3vcq"
      },
      "source": [
        "# Part 1: Solving a linear system using inverse matrix - 2 Marks\n",
        "\n",
        "We have a linear system\n",
        "\n",
        "\\begin{align}\n",
        "&a_{11} x_1 + a_{12} x_2 +  \\cdots  + a_{1n} x_n = b_1\\\\\n",
        "&a_{21} x_1 + a_{22} x_2 +  \\cdots + a_{2n} x_n = b_2\\\\\n",
        "&\\cdots\\\\\n",
        "&a_{n1} x_1 + a_{n2} x_2 +  \\cdots + a_{nn} x_n = b_n\\\\\n",
        "\\end{align}\n",
        "\n",
        "It is convenient to express this system in the\n",
        "matrix form\n",
        "\n",
        "\\begin{align}\n",
        "Ax = b\n",
        "\\end{align}\n",
        "\n",
        "where $A$ is an $n \\times n$ square matrix with elements $a_{ij}$, and $x$, $b$ are $n \\times 1$ vectors.\n",
        "\n",
        "We have to keep in mind that this system will have a unique solution iff $A$ is non-singular, given by $x = A^{-1}b.$"
      ]
    },
    {
      "cell_type": "code",
      "execution_count": 2,
      "metadata": {
        "deletable": false,
        "editable": false,
        "id": "aQX8PNoJ39Ak"
      },
      "outputs": [],
      "source": [
        "import numpy as np\n",
        "np.set_printoptions(precision=6, formatter={'all': lambda x: f'{x:f}'})"
      ]
    },
    {
      "cell_type": "code",
      "execution_count": null,
      "metadata": {
        "deletable": false,
        "id": "liidjMKS-DBM"
      },
      "outputs": [],
      "source": [
        "def get_result_by_inverse_matrix(A, b):\n",
        "    # A and b are numpy arrays\n",
        "    x = np.zeros(b.shape)\n",
        "\n",
        "    # First check if the A is non-singular matrix.\n",
        "    # The determinant of a non-singular matrix will be non-zero.\n",
        "    # Return None if there is no unique solution to the linear equation.\n",
        "\n",
        "    inverse_matrix=0\n",
        "    if(np.linalg.det(A)==0):\n",
        "      print(\"Not inversible\")\n",
        "    else:\n",
        "      inverse_matrix= np.linalg.inv(A)\n",
        "    x=np.dot(inverse_matrix,b)\n",
        "\n",
        "    # HINT:\n",
        "    # You may use functions such as linalg.det(), linalg.inv() from numpy.\n",
        "\n",
        "    return x"
      ]
    },
    {
      "cell_type": "code",
      "execution_count": null,
      "metadata": {
        "deletable": false,
        "editable": false,
        "id": "Ege-eIAp-CTV",
        "colab": {
          "base_uri": "https://localhost:8080/"
        },
        "outputId": "9dfefa72-f2bc-4a65-f86b-383300e3591b"
      },
      "outputs": [
        {
          "output_type": "stream",
          "name": "stdout",
          "text": [
            "[11.000000 -2.500000 -6.000000]\n",
            "[11.000000 -2.500000 -6.000000]\n",
            "Not inversible\n",
            "[0.000000 0.000000 0.000000]\n",
            "None\n"
          ]
        }
      ],
      "source": [
        "# Test case for the get_result_by_inverse_matrix(A, b) function.\n",
        "\n",
        "data_A = np.array([[1, 2, 1], [1, -2, 2], [2, 12, -2]])\n",
        "data_b = np.array([0, 4, 4])\n",
        "\n",
        "test = get_result_by_inverse_matrix(data_A, data_b)\n",
        "result = np.array([11, -2.5, -6])\n",
        "\n",
        "print(test)\n",
        "print(result)\n",
        "\n",
        "data_A = np.array([[1, 2, 1], [1, -2, 2], [2, 0, 3]])\n",
        "data_b = np.array([0, 4, 4])\n",
        "\n",
        "test = get_result_by_inverse_matrix(data_A, data_b)\n",
        "result = None\n",
        "\n",
        "print(test)\n",
        "print(result)"
      ]
    },
    {
      "cell_type": "markdown",
      "metadata": {
        "deletable": false,
        "editable": false,
        "id": "eyAJANDCC08f"
      },
      "source": [
        "# Part 2: Gaussian elimination - 2 Marks\n",
        "\n",
        "Gaussian elimination uses elementary row operations to transform the system to upper triangular form $Ux = y$.\n",
        "\n",
        "Elementary row operations include swapping rows and adding multiples of one rowto another.\n",
        "They won’t change the solution $x$, but will change the matrix $A$ and the right-hand side $b$.\n",
        "\n",
        "The upper triangular matrix, $𝑈$, is defined as\n",
        "\n",
        "\\begin{bmatrix}\n",
        "u_{11} & u_{12} & \\cdots & u_{1n}\\\\\n",
        "0 & u_{22} & \\cdots & u_{2n}\\\\\n",
        "\\vdots & \\vdots & \\ddots & \\vdots\\\\\n",
        "0 & \\cdots & 0 & u_{nn}\\\\\n",
        "\\end{bmatrix}\n"
      ]
    },
    {
      "cell_type": "markdown",
      "metadata": {
        "deletable": false,
        "editable": false,
        "id": "fZXuDaxsPhJm"
      },
      "source": [
        "**Algorithm of Gaussian elimination**\n",
        "\n",
        "Let $A^{(1)}=A$ and $b^{(1)}=b$. Then for each k from 1 to $n-1$, compute a new matrix $A^{(k+1)}$ and right-hand side $b^{(k+1)}$ by the following procedure:\n",
        "\n",
        "\n",
        "1.   Define the row multipliers\n",
        "\n",
        "\\begin{align}\n",
        "m_{ij} = \\frac{a_{ik}^{(k)}}{a_{kk}^{(k)}}, i=k+1,\\cdot \\cdot \\cdot,n.\n",
        "\\end{align}\n",
        "2.   Use these to remove the unknown $x_k$ from equations $k + 1$ to $n$, leaving\n",
        "\n",
        "\\begin{align}\n",
        "a_{ij}^{(k+1)}=a_{ij}^{(k)}-m_{ik}a_{kj}^{(k)}, b_{i}^{(k+1)}=b_{i}^{(k)}-m_{ik}b_{k}^{(k)}, i,j=k+1,\\cdot \\cdot \\cdot, n.\n",
        "\\end{align}\n",
        "\n",
        "It is helpful to combine these matrices to form an Augmented matrix (matrix $b$ is the fourth column). We will perform this row operations on the Augmented matrix. It takes care of both $A$ and $b$ matrixes at the same time.\n",
        "\n",
        "After generating the upper triangular matrix, we have to apply **backward substitution method**.\n",
        "For any $n \\times n$ upper triangular system, $Ux = b$, the solution is:\n",
        "\n",
        "\\begin{align}\n",
        "x_j = \\frac{b_j-\\sum_{k=j+1}^{n}u_{jk}x_k}{u_{jj}}, j = n, n-1, \\cdot\\cdot\\cdot, 1.\n",
        "\\end{align}\n",
        "\n",
        "Here we assumed that $det𝑈≠0$.\n"
      ]
    },
    {
      "cell_type": "code",
      "execution_count": 13,
      "metadata": {
        "deletable": false,
        "id": "r0-WCKM1OZKC"
      },
      "outputs": [],
      "source": [
        "def get_result_gaussian_elimination(n, A):\n",
        "    # n is the number of unknowns.\n",
        "    # A is a numpy array representing the Augmented n x (n+1) matrix.\n",
        "    x = np.zeros(n)\n",
        "\n",
        "    # First check if the A is non-singular matrix.\n",
        "    # The determinant of a non-singular matrix will be non-zero.\n",
        "    # Return None if there is no unique solution to the linear equation.\n",
        "\n",
        "    for i in range(n):\n",
        "      for j in range(i+1,n):\n",
        "        m=A[j][i]/A[i][i]  #m=[1][0]/[0][0]\n",
        "        for k in range(n+1):\n",
        "          A[j][k]=A[j][k]-m*A[i][k] #[1][0]=[1][0]-m[0][0]\n",
        "    print(A)\n",
        "    if A[n-1][n-1] == 0:\n",
        "      print(\"No unique solution (division by zero).\")\n",
        "      return None\n",
        "\n",
        "    x[n-1]=A[n-1][n]/A[n-1][n-1]\n",
        "    for p in range(n-1,-1,-1):\n",
        "      temp=A[p,n]\n",
        "      for q in range(p+1,n):\n",
        "        temp=temp-A[p][q]*x[q]\n",
        "      temp=temp/A[p][p]\n",
        "      x[p]=temp\n",
        "\n",
        "    # HINT:\n",
        "    # Apply Gauss Elimination followed by Back Substitution\n",
        "\n",
        "    return x"
      ]
    },
    {
      "cell_type": "code",
      "source": [],
      "metadata": {
        "id": "auuGk4wxMbTw"
      },
      "execution_count": null,
      "outputs": []
    },
    {
      "cell_type": "code",
      "execution_count": 14,
      "metadata": {
        "deletable": false,
        "editable": false,
        "id": "IjJuvkTBUifb",
        "colab": {
          "base_uri": "https://localhost:8080/"
        },
        "outputId": "2766af30-3dbe-4d57-a6e3-8d5ba93a6878"
      },
      "outputs": [
        {
          "output_type": "stream",
          "name": "stdout",
          "text": [
            "[[1.000000 2.000000 1.000000 0.000000]\n",
            " [0.000000 -4.000000 1.000000 4.000000]\n",
            " [0.000000 0.000000 -2.000000 12.000000]]\n",
            "[11.000000 -2.500000 -6.000000]\n",
            "[11.000000 -2.500000 -6.000000]\n",
            "[[1.000000 2.000000 1.000000 0.000000]\n",
            " [0.000000 -4.000000 1.000000 4.000000]\n",
            " [0.000000 0.000000 0.000000 0.000000]]\n",
            "No unique solution (division by zero).\n",
            "None\n",
            "None\n"
          ]
        }
      ],
      "source": [
        "# Test case for the get_result_gaussian_elimination(n, A) function.\n",
        "\n",
        "data_n = 3\n",
        "data_A = np.array([[1, 2, 1, 0], [1, -2, 2, 4], [2, 12, -2, 4]])\n",
        "\n",
        "test = get_result_gaussian_elimination(data_n, data_A)\n",
        "result = np.array([11, -2.5, -6])\n",
        "\n",
        "print(test)\n",
        "print(result)\n",
        "\n",
        "data_n = 3\n",
        "data_A = np.array([[1, 2, 1, 0], [1, -2, 2, 4], [2, 0, 3, 4]])\n",
        "\n",
        "test = get_result_gaussian_elimination(data_n, data_A)\n",
        "result = None\n",
        "\n",
        "print(test)\n",
        "print(result)"
      ]
    },
    {
      "cell_type": "code",
      "source": [],
      "metadata": {
        "id": "tDN-_uiR8xVc"
      },
      "execution_count": null,
      "outputs": []
    },
    {
      "cell_type": "markdown",
      "metadata": {
        "deletable": false,
        "editable": false,
        "id": "EDhqIUdo0InV"
      },
      "source": [
        "# Daily Evaluation - 4 Marks"
      ]
    },
    {
      "cell_type": "code",
      "source": [
        "n = 5\n",
        "A = np.array([\n",
        "    [1, 2, 3, 4, 5],\n",
        "    [-1, 3, 5, 0, 0],\n",
        "    [5, 3, -44, 0, 0],\n",
        "    [3, -1, 0, 0, 0],\n",
        "    [0, 0, 0, 0, 0]\n",
        "], dtype=float)\n",
        "b = np.array([55, 33, -4, 11, 0], dtype=float)\n",
        "augmented = np.append(A, b.reshape(-1, 1), axis=1)\n",
        "\n",
        "t=get_result_gaussian_elimination(n,augmented)\n",
        "\n",
        "b = np.array([55, 33, -4, 11], dtype=float)\n",
        "print(t)\n",
        "\n"
      ],
      "metadata": {
        "colab": {
          "base_uri": "https://localhost:8080/"
        },
        "id": "fO3R7yPMMf5c",
        "outputId": "8c0c4943-a3b2-4f91-c9cb-f5a768d432ff"
      },
      "execution_count": 12,
      "outputs": [
        {
          "output_type": "stream",
          "name": "stdout",
          "text": [
            "[[1.000000 2.000000 3.000000 4.000000 5.000000 55.000000]\n",
            " [0.000000 5.000000 8.000000 4.000000 5.000000 88.000000]\n",
            " [0.000000 0.000000 -47.800000 -14.400000 -18.000000 -155.800000]\n",
            " [0.000000 0.000000 0.000000 -7.062762 -8.828452 -37.970711]\n",
            " [0.000000 0.000000 0.000000 0.000000 0.000000 0.000000]]\n",
            "[nan nan nan nan nan]\n"
          ]
        },
        {
          "output_type": "stream",
          "name": "stderr",
          "text": [
            "<ipython-input-5-b944321afe52>:16: RuntimeWarning: invalid value encountered in scalar divide\n",
            "  x[n-1]=A[n-1][n]/A[n-1][n-1]\n",
            "<ipython-input-5-b944321afe52>:21: RuntimeWarning: invalid value encountered in scalar divide\n",
            "  temp=temp/A[p][p]\n"
          ]
        }
      ]
    },
    {
      "cell_type": "markdown",
      "source": [],
      "metadata": {
        "id": "Zl3IvR32Jx_V"
      }
    },
    {
      "cell_type": "code",
      "execution_count": null,
      "metadata": {
        "deletable": false,
        "editable": false,
        "id": "6JBzk8KoJqgN"
      },
      "outputs": [],
      "source": [
        "# Test case for the get_result_gaussian_elimination(n, A) function.\n",
        "\n",
        "data_n = 3\n",
        "data_A = np.array([[1, 2, 1, 0], [1, -2, 2, 4], [2, 12, -2, 4]])\n",
        "\n",
        "test = get_result_gaussian_elimination(data_n, data_A)\n",
        "result = np.array([11, -2.5, -6])\n",
        "\n",
        "print(test)\n",
        "print(result)\n",
        "\n",
        "data_n = 3\n",
        "data_A = np.array([[1, 2, 1, 0], [1, -2, 2, 4], [2, 0, 3, 4]])\n",
        "\n",
        "test = get_result_gaussian_elimination(data_n, data_A)\n",
        "result = None\n",
        "\n",
        "print(test)\n",
        "print(result)"
      ]
    }
  ],
  "metadata": {
    "colab": {
      "provenance": []
    },
    "kernelspec": {
      "display_name": "Python 3",
      "name": "python3"
    },
    "language_info": {
      "name": "python"
    }
  },
  "nbformat": 4,
  "nbformat_minor": 0
}