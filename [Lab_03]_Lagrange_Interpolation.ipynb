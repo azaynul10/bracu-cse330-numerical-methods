{
  "cells": [
    {
      "cell_type": "markdown",
      "metadata": {
        "deletable": false,
        "editable": false,
        "id": "-H-_6qE4TzPX"
      },
      "source": [
        "Instructions: Make a copy of this notebook and rename into the format `ID_Name_LabNo.ipynb` (example: `12345678_SomeName_3.ipynb`). Read all the comments and write appropriate code after any place that says `# YOUR CODE HERE`. When the daily evaluation tasks are revealed, append their solutions at the end of this notebook."
      ]
    },
    {
      "cell_type": "markdown",
      "metadata": {
        "deletable": false,
        "editable": false,
        "id": "JUqq2ULKTzPb",
        "nbgrader": {
          "cell_type": "markdown",
          "checksum": "472ee35503d72c0c10415479acd0c38f",
          "grade": false,
          "grade_id": "title",
          "locked": true,
          "schema_version": 3,
          "solution": false,
          "task": false
        }
      },
      "source": [
        "---\n",
        "# CSE330 Lab: Polynomial Interpolation using Lagrange Form\n",
        "---"
      ]
    },
    {
      "cell_type": "markdown",
      "metadata": {
        "deletable": false,
        "editable": false,
        "id": "tqv6INGMTzPb",
        "nbgrader": {
          "cell_type": "markdown",
          "checksum": "4a90b5ab8ffd9fe85f9eac720e5f3254",
          "grade": false,
          "grade_id": "intro1",
          "locked": true,
          "schema_version": 3,
          "solution": false,
          "task": false
        }
      },
      "source": [
        "### Importing necessary libraries"
      ]
    },
    {
      "cell_type": "code",
      "execution_count": null,
      "metadata": {
        "deletable": false,
        "editable": false,
        "id": "BQv_kayFTzPb",
        "nbgrader": {
          "cell_type": "code",
          "checksum": "61b07e7eb90c9dd5d430e8e51f42846e",
          "grade": false,
          "grade_id": "import",
          "locked": true,
          "schema_version": 3,
          "solution": false,
          "task": false
        }
      },
      "outputs": [],
      "source": [
        "import numpy as np\n",
        "import matplotlib.pyplot as plt\n",
        "np.set_printoptions(precision=6, formatter={'all': lambda x: f'{x:f}'})"
      ]
    },
    {
      "cell_type": "markdown",
      "metadata": {
        "deletable": false,
        "editable": false,
        "id": "D6j56_qsTzPc",
        "nbgrader": {
          "cell_type": "markdown",
          "checksum": "81f5a760fa7cea3e76a5396bc16a1c44",
          "grade": false,
          "grade_id": "intro2",
          "locked": true,
          "schema_version": 3,
          "solution": false,
          "task": false
        }
      },
      "source": [
        "### The Lagrange_Polynomial class\n",
        "General form of an $n$ degree Lagrange polynomial:\n",
        "\n",
        "\\begin{equation}\n",
        "p_n(x) = \\sum_{k=0}^{n} f(x_k)l_k(x) = \\sum_{k=0}^{n} y_kl_k(x),\\tag{1}\n",
        "\\end{equation}\n",
        "\n",
        "where\n",
        "\\begin{equation}\n",
        "l_k(x) = \\prod_{j=0, j\\neq k}^{n} \\frac{x-x_j}{x_k-x_j}. \\tag{2}\n",
        "\\end{equation}\n",
        "\n",
        "Note that the Lagrange method is more efficient than the matrix method because *we do not need to calculate any inverse matrices*.\n",
        "\n",
        "## 1. **The constructor `__init__(self, data_x, data_y)` has been written for you.**\n",
        "\n",
        "Here, we check whether the input vectors (numpy arrays) are equal or not.\n",
        "We store `data_x` and `data_y`.\n",
        "We calculate and store the degree of the polynomial.\n",
        "$$\\$$\n",
        "\n",
        "## 2. **The `_repr__(self)` function has been written for you.**\n",
        "\n",
        "This is similar to the `toString()` method in Java. This returns a formatted string of the object whenever the object is printed.\n",
        "$$\\$$\n",
        "\n",
        "## 3. **You have to implement the `l(self, k, x)` function. - 2 Marks**\n",
        "This function would take `k` and `x` as inputs and calculate the Lagrange basis using the Equation $(2)$.\n",
        "\n",
        "\n",
        "## 4. **You have to implement the `__call__(self, x_arr)` function. - 2 Marks**\n",
        "This function makes an object of a class callable.\n",
        "The function calculates the Lagrange polynomial from a set of given nodes. `self.data_x` and `self.data_y` contains the coordinates of the given nodes of the original function. Using Equation $(1)$, you have to use `self.data_x`, `self.data_y`, and the `l(k, x)` function to find the interpolated output of the polynomial for all elements of `x_arr`.\n",
        "`x_arr` is a numpy array containing points through which we want to plot our polynomial."
      ]
    },
    {
      "cell_type": "code",
      "execution_count": null,
      "metadata": {
        "deletable": false,
        "id": "ATV3QRfpTzPd",
        "nbgrader": {
          "cell_type": "code",
          "checksum": "ee5fe25841a28719cac4c1675aa3b244",
          "grade": false,
          "grade_id": "lag_ans",
          "locked": false,
          "schema_version": 3,
          "solution": true,
          "task": false
        }
      },
      "outputs": [],
      "source": [
        "class Lagrange_Polynomial:\n",
        "    def __init__(self, data_x, data_y):\n",
        "        '''\n",
        "        First we need to check whether the input vectors (numpy arrays) are equal\n",
        "        or not.\n",
        "        assert (condition), \"msg\"\n",
        "        This command checks if the condition is true or false. If true, the code\n",
        "        runs normally. But if false, then the code returns an error message \"msg\"\n",
        "        and stops execution\n",
        "        '''\n",
        "        assert len(data_x) == len(data_y), \"length of data_x and data_y must be equal\"\n",
        "\n",
        "        '''\n",
        "        Lagrange polynomials do not use coefficeints a_i, rather the nodes\n",
        "        (x_i, y_i). Hence, we just need to store these inside the object\n",
        "        '''\n",
        "\n",
        "        self.data_x = data_x\n",
        "        self.data_y = data_y\n",
        "\n",
        "        self.degree = len(data_x) - 1\n",
        "        # we assume that the inputs are numpy arrays,\n",
        "        # so we can perform element wise operations\n",
        "\n",
        "    def __repr__(self):\n",
        "        # method for string representation\n",
        "        # you don't need to worry about the following code if you don't understand\n",
        "        strL = f\"LagrangePolynomial of order {self.degree}\\n\"\n",
        "        strL += \"p(x) = \"\n",
        "        for i in range(len(self.data_y)):\n",
        "            if self.data_y[i] == 0:\n",
        "                continue\n",
        "            elif self.data_y[i] >= 0:\n",
        "                strL += f\"+ {self.data_y[i]}*l_{i}(x) \"\n",
        "            else:\n",
        "                strL += f\"- {-self.data_y[i]}*l_{i}(x) \"\n",
        "\n",
        "        return strL\n",
        "\n",
        "    def l(self, k, x):\n",
        "        # initialize with one\n",
        "        l_k = 1.0\n",
        "        for j in range(self.degree+1):\n",
        "           if j==k:\n",
        "            continue\n",
        "           else:\n",
        "            l_k*=((x-self.data_x[j])/(self.data_x[k]-self.data_x[j]))\n",
        "\n",
        "        return l_k\n",
        "\n",
        "    def __call__(self, x_arr):\n",
        "        p_x_arr = np.zeros(x_arr.shape)\n",
        "        for m in range(len(x_arr)):\n",
        "            for n in range(self.degree+1):\n",
        "                p_x_arr[m] += self.data_y[n] * self.l(n, x_arr[m])\n",
        "        return p_x_arr"
      ]
    },
    {
      "cell_type": "markdown",
      "metadata": {
        "deletable": false,
        "editable": false,
        "id": "n6dM75WXTzPe",
        "nbgrader": {
          "cell_type": "markdown",
          "checksum": "478a49eee2ad8430e336e36f9c3192a5",
          "grade": false,
          "grade_id": "cell-5e302a53e7d98109",
          "locked": true,
          "schema_version": 3,
          "solution": false,
          "task": false
        }
      },
      "source": [
        "### Calling the Lagrange Polynomial object and plotting the polynomial"
      ]
    },
    {
      "cell_type": "markdown",
      "metadata": {
        "deletable": false,
        "editable": false,
        "id": "l0NtndljTzPf",
        "nbgrader": {
          "cell_type": "markdown",
          "checksum": "501f9a97334297861b6356643408c3a9",
          "grade": false,
          "grade_id": "plot",
          "locked": true,
          "schema_version": 3,
          "solution": false,
          "task": false
        }
      },
      "source": [
        "*Note that in the plot the given nodes will be marked in red.*"
      ]
    },
    {
      "cell_type": "code",
      "execution_count": null,
      "metadata": {
        "deletable": false,
        "editable": false,
        "id": "rhysBDi7TzPf",
        "colab": {
          "base_uri": "https://localhost:8080/",
          "height": 507
        },
        "outputId": "f2ca3402-52bf-4eb3-a0c2-a6e7976b78d9"
      },
      "outputs": [
        {
          "output_type": "stream",
          "name": "stdout",
          "text": [
            "LagrangePolynomial of order 6\n",
            "p(x) = + 4.0*l_0(x) + 1.193*l_1(x) + 6.156*l_2(x) + 2.0*l_3(x) + 1.803*l_4(x) + 2.558*l_5(x) \n"
          ]
        },
        {
          "output_type": "display_data",
          "data": {
            "text/plain": [
              "<Figure size 640x480 with 1 Axes>"
            ],
            "image/png": "[encoded data removed]"
          },
          "metadata": {}
        }
      ],
      "source": [
        "data_x = np.array([-3.5, -2.231, -1.152, -0.5, 0.198, 0.785, 1.6])\n",
        "data_y = np.array([4.0, 1.193, 6.156, 2.0, 1.803, 2.558, 0.0])\n",
        "\n",
        "p = Lagrange_Polynomial(data_x, data_y)\n",
        "print(p) # __repr__()\n",
        "\n",
        "# generating 100 points from -3.5 to 1.6 in order to create a smooth line\n",
        "x_arr = np.linspace(-3.5, 1.6, 100)\n",
        "p_x_arr = p(x_arr) # __call__()\n",
        "\n",
        "# plot to see if your implementation is correct\n",
        "plt.plot(x_arr, p_x_arr)\n",
        "plt.plot(data_x, data_y, 'ro')\n",
        "plt.legend(['interpolated', 'node points'], loc = 'lower right')\n",
        "plt.xlabel('x')\n",
        "plt.ylabel('y')\n",
        "plt.title('Lagrange Polynomial')\n",
        "plt.show()"
      ]
    },
    {
      "cell_type": "markdown",
      "metadata": {
        "deletable": false,
        "editable": false,
        "id": "_0b9rvvSf1fP"
      },
      "source": [
        "# Daily Evaluation - 4 marks"
      ]
    },
    {
      "cell_type": "code",
      "source": [
        "x_arr=np.array([-2,11,-1])\n",
        "y_arr=np.array([20,72,12])\n",
        "fp=Lagrange_Polynomial(x_arr,y_arr)\n",
        "x=np.array([0,12,-3])\n",
        "y=fp(x)\n",
        "x_ay = np.linspace(-3.5, 1.6, 100)\n",
        "z=fp(x_ay)\n",
        "print(z)\n",
        "plt.plot(x_arr, y_arr)\n",
        "plt.plot(x, y, 'ro')\n",
        "plt.plot(x_ay, z, 'r-')\n",
        "plt.legend(['Original data', 'Evaluated points', 'Interpolation'])\n",
        "plt.legend(['interpolated', 'node points'], loc = 'lower right')\n",
        "plt.xlabel('x')\n",
        "plt.ylabel('y')\n",
        "plt.title('Lagrange Polynomial')\n",
        "plt.show()"
      ],
      "metadata": {
        "colab": {
          "base_uri": "https://localhost:8080/",
          "height": 715
        },
        "id": "AmMnSWLEmRnA",
        "outputId": "ebefd788-3506-40b7-9a23-a790383d61e5"
      },
      "execution_count": null,
      "outputs": [
        {
          "output_type": "stream",
          "name": "stdout",
          "text": [
            "[35.750000 35.134472 34.524252 33.919339 33.319734 32.725436 32.136446\n",
            " 31.552764 30.974389 30.401322 29.833563 29.271111 28.713967 28.162130\n",
            " 27.615601 27.074380 26.538466 26.007860 25.482562 24.962571 24.447888\n",
            " 23.938512 23.434444 22.935684 22.442231 21.954086 21.471249 20.993719\n",
            " 20.521497 20.054582 19.592975 19.136676 18.685684 18.240000 17.799624\n",
            " 17.364555 16.934793 16.510340 16.091194 15.677355 15.268825 14.865601\n",
            " 14.467686 14.075078 13.687778 13.305785 12.929100 12.557723 12.191653\n",
            " 11.830891 11.475436 11.125289 10.780450 10.440918 10.106694 9.777778\n",
            " 9.454169 9.135868 8.822874 8.515188 8.212810 7.915739 7.623976 7.337521\n",
            " 7.056373 6.780533 6.510000 6.244775 5.984858 5.730248 5.480946 5.236951\n",
            " 4.998264 4.764885 4.536814 4.314050 4.096593 3.884444 3.677603 3.476070\n",
            " 3.279844 3.088926 2.903315 2.723012 2.548017 2.378329 2.213949 2.054876\n",
            " 1.901111 1.752654 1.609504 1.471662 1.339128 1.211901 1.089982 0.973370\n",
            " 0.862066 0.756070 0.655381 0.560000]\n"
          ]
        },
        {
          "output_type": "display_data",
          "data": {
            "text/plain": [
              "<Figure size 640x480 with 1 Axes>"
            ],
            "image/png": "[encoded data removed]"
          },
          "metadata": {}
        }
      ]
    },
    {
      "cell_type": "code",
      "source": [
        "data_a=np.array([2,4,6])\n",
        "data_b=np.array([8,16,24])\n",
        "p_new=Lagrange_Polynomial(data_a,data_b)\n",
        "print(p_new)\n",
        "new_x=np.array([-1.5])\n",
        "j=p_new(new_x)\n",
        "print(\"Polynomial\",j)\n",
        "fx=4*new_x\n",
        "error=abs(fx-j)\n",
        "print(error)"
      ],
      "metadata": {
        "id": "WyK2olzzh4ZQ",
        "outputId": "437394b1-b5fd-47ea-c3ec-e74d6aa78d0d",
        "colab": {
          "base_uri": "https://localhost:8080/"
        }
      },
      "execution_count": null,
      "outputs": [
        {
          "output_type": "stream",
          "name": "stdout",
          "text": [
            "LagrangePolynomial of order 2\n",
            "p(x) = + 8*l_0(x) + 16*l_1(x) + 24*l_2(x) \n",
            "Polynomial [-6.000000]\n",
            "[0.000000]\n"
          ]
        }
      ]
    }
  ],
  "metadata": {
    "colab": {
      "provenance": []
    },
    "kernelspec": {
      "display_name": "Python 3",
      "language": "python",
      "name": "python3"
    },
    "language_info": {
      "codemirror_mode": {
        "name": "ipython",
        "version": 3
      },
      "file_extension": ".py",
      "mimetype": "text/x-python",
      "name": "python",
      "nbconvert_exporter": "python",
      "pygments_lexer": "ipython3",
      "version": "3.7.4"
    }
  },
  "nbformat": 4,
  "nbformat_minor": 0
}