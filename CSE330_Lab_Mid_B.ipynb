{
  "nbformat": 4,
  "nbformat_minor": 0,
  "metadata": {
    "colab": {
      "provenance": []
    },
    "kernelspec": {
      "name": "python3",
      "display_name": "Python 3"
    },
    "language_info": {
      "name": "python"
    }
  },
  "cells": [
    {
      "cell_type": "markdown",
      "source": [
        "Form submission Link: https://forms.gle/i7RyNGbggnEZa4PBA.ipynb"
      ],
      "metadata": {
        "id": "qnY1i0BXjs6n"
      }
    },
    {
      "cell_type": "code",
      "execution_count": null,
      "metadata": {
        "id": "hhMsLfoTjd6Q"
      },
      "outputs": [],
      "source": [
        "ID = \"22341034\" # Edit this cell to include your ID.\n",
        "Section = \"11\"\n",
        "import numpy as np\n",
        "# Rename the file as 00000000_11_B"
      ]
    },
    {
      "cell_type": "markdown",
      "source": [
        "a) [2.5 Marks]\n",
        "\n",
        "Find a polynomial with the minimum degree such that its curve goes through all the following points: (1, -5), (2, 3), (3, 10), (4, 0).\n",
        "\n",
        "Use a method which runs in $O(N^2)$ time complexity ($N$ = number of points). Note that, a specific method is needed here so that it is possible to fulfill the requirements in (b)."
      ],
      "metadata": {
        "id": "mcxArIgCmJR9"
      }
    },
    {
      "cell_type": "code",
      "source": [
        "import numpy as np\n",
        "from numpy.polynomial import Polynomial\n",
        "\n",
        "def find_min_degree_poly(data_x, data_y):\n",
        "    n = len(data_x)\n",
        "\n",
        "    X = np.zeros((n, n))\n",
        "    for i in range(n):\n",
        "        for j in range(n):\n",
        "            X[i, j] = data_x[i] ** (n-1-j)\n",
        "\n",
        "\n",
        "    coeffs = np.linalg.solve(X, data_y)\n",
        "\n",
        "\n",
        "    return Polynomial(coeffs[::-1])"
      ],
      "metadata": {
        "id": "q9JOjTA4mKBD"
      },
      "execution_count": 3,
      "outputs": []
    },
    {
      "cell_type": "code",
      "source": [
        "data_x = np.array([1, 2, 3, 4])\n",
        "data_y = np.array([-5, 3, 10, 0])\n",
        "p = find_min_degree_poly(data_x, data_y)\n",
        "print(p)"
      ],
      "metadata": {
        "colab": {
          "base_uri": "https://localhost:8080/"
        },
        "id": "gee5nyuVgrXD",
        "outputId": "e3afd50d-9265-4660-b8ae-5a89f4bed79a"
      },
      "execution_count": 4,
      "outputs": [
        {
          "output_type": "stream",
          "name": "stdout",
          "text": [
            "2.0 - 19.83333333·x + 15.5·x² - 2.66666667·x³\n"
          ]
        }
      ]
    },
    {
      "cell_type": "markdown",
      "source": [
        "b) [2.5 Marks] Find another polynomial with a higher degree than the polynomial from (a) such that its curve goes through all the points given in (a).\n",
        "\n",
        "Use a method which runs in $O(N)$ time complexity, assuming (a) is done and all calculations in (a) are excluded from this time complexity."
      ],
      "metadata": {
        "id": "jNbY3RO0mKeb"
      }
    },
    {
      "cell_type": "code",
      "source": [
        "def create_higher_degree_poly(data_x, original_poly):\n",
        "\n",
        "    zero_term = Polynomial([1])\n",
        "\n",
        "    for x_i in data_x:\n",
        "\n",
        "        zero_term = zero_term * Polynomial([-x_i, 1])\n",
        "\n",
        "\n",
        "    higher_poly = original_poly + zero_term\n",
        "\n",
        "    return higher_poly\n"
      ],
      "metadata": {
        "id": "fXogIxVgmOnb"
      },
      "execution_count": 5,
      "outputs": []
    },
    {
      "cell_type": "code",
      "source": [
        "a = create_higher_degree_poly(data_x, p)\n",
        "print(a)"
      ],
      "metadata": {
        "colab": {
          "base_uri": "https://localhost:8080/"
        },
        "id": "V4yb-w7SiWvr",
        "outputId": "dc7e5615-3cff-4420-ebfe-8c3ccd6e15a4"
      },
      "execution_count": 6,
      "outputs": [
        {
          "output_type": "stream",
          "name": "stdout",
          "text": [
            "26.0 - 69.83333333·x + 50.5·x² - 12.66666667·x³ + 1.0·x⁴\n"
          ]
        }
      ]
    },
    {
      "cell_type": "markdown",
      "source": [
        "c) [2.5 Marks] Find another polynomial with the minimum degree, such that its curve goes through all the points given in (a) and that the slope of the tangents at those points are 0, 1, -1, 2, respectively.\n",
        "\n",
        "Use a method which runs in $O(N^2)$ time complexity."
      ],
      "metadata": {
        "id": "NSzmbsUmmR0M"
      }
    },
    {
      "cell_type": "code",
      "source": [
        "import numpy as np\n",
        "import matplotlib.pyplot as plt\n",
        "from itertools import combinations"
      ],
      "metadata": {
        "id": "VssOBrQBmS7j"
      },
      "execution_count": 13,
      "outputs": []
    },
    {
      "cell_type": "code",
      "source": [
        "\n",
        "\n",
        "def l(k, x):\n",
        "    n = len(x)\n",
        "    assert (k < len(x))\n",
        "\n",
        "    x_k = x[k]\n",
        "    x_copy = np.delete(x, k)\n",
        "\n",
        "    denominator = np.prod(x_copy - x_k)\n",
        "\n",
        "    coeff = []\n",
        "\n",
        "    for i in range(n):\n",
        "        coeff.append(sum([np.prod(x) for x in combinations(x_copy, i)]) * (-1)**(i) / denominator)\n",
        "\n",
        "    coeff.reverse()\n",
        "\n",
        "    return Polynomial(coeff)\n",
        "def h(k, x):\n",
        "    # initialize with None. Replace with appropriate values/function calls\n",
        "    l_k = None\n",
        "    l_k_sqr = None\n",
        "    l_k_prime = None\n",
        "    coeff = None\n",
        "    p = None\n",
        "\n",
        "\n",
        "    # --------------------------------------------\n",
        "    l_k=l(k,x)\n",
        "    l_k_sqr=l_k**2\n",
        "    l_k_prime=l_k.deriv(1)\n",
        "    a_0=1+2*x[k]*l_k_prime(x[k])\n",
        "    a_1=-2*(l_k_prime(x[k]))\n",
        "    coeff=[a_0,a_1]\n",
        "    p=Polynomial(coeff)\n",
        "    # --------------------------------------------\n",
        "\n",
        "    return p * l_k_sqr\n",
        "def h_hat(k, x):\n",
        "    # Initialize with none\n",
        "    l_k = None\n",
        "    l_k_sqr = None\n",
        "    coeff = None\n",
        "    p = None\n",
        "\n",
        "    # --------------------------------------------\n",
        "    # YOUR CODE HERE\n",
        "    l_k=l(k,x)\n",
        "    l_k_sqr=l_k**2\n",
        "    coeff=[-x[k],1]\n",
        "    p=Polynomial(coeff)\n",
        "    # --------------------------------------------\n",
        "\n",
        "    return p * l_k_sqr\n"
      ],
      "metadata": {
        "id": "Q7T-6x0wnVp4"
      },
      "execution_count": 10,
      "outputs": []
    },
    {
      "cell_type": "code",
      "source": [
        "def hermit(x, y, y_prime):\n",
        "    assert len(x) == len(y)\n",
        "    assert len(y) == len(y_prime)\n",
        "\n",
        "    f = 0\n",
        "    # --------------------------------------------\n",
        "    for k in range(len(x)):\n",
        "      f+=y[k]*h(k,x)+y_prime[k]*h_hat(k,x)\n",
        "\n",
        "    # --------------------------------------------\n",
        "    return f"
      ],
      "metadata": {
        "id": "4CtblCx2o-Yn"
      },
      "execution_count": 14,
      "outputs": []
    },
    {
      "cell_type": "code",
      "source": [
        "# Points from part (a)\n",
        "data_x = np.array([1, 2, 3, 4])\n",
        "data_y = np.array([-5, 3, 10, 0])\n",
        "\n",
        "y_prime = np.array([0, 1, -1, 2])\n",
        "\n",
        "\n",
        "g = hermit(data_x, data_y, y_prime)\n",
        "print(g)"
      ],
      "metadata": {
        "colab": {
          "base_uri": "https://localhost:8080/"
        },
        "id": "qEf6zFkvpVtv",
        "outputId": "44c6a337-6a9a-4ded-9bf0-12356307c768"
      },
      "execution_count": 15,
      "outputs": [
        {
          "output_type": "stream",
          "name": "stdout",
          "text": [
            "-401.33333333 + 1359.55555556·x - 2021.17592593·x² + 1684.92592593·x³ -\n",
            "831.62037037·x⁴ + 239.03703704·x⁵ - 36.7037037·x⁶ + 2.31481481·x⁷\n"
          ]
        }
      ]
    },
    {
      "cell_type": "markdown",
      "source": [
        "d) [2.5 Marks] Evaluate the polynomials form (a), (b) and (c) at all the following points: x = -3, 7."
      ],
      "metadata": {
        "id": "mjShJiMrmWjd"
      }
    },
    {
      "cell_type": "code",
      "source": [
        "x=np.array([-3.7])\n",
        "h=g(x)\n",
        "j=a(x)\n",
        "q=p(x)\n",
        "print(h)\n",
        "print(j)\n",
        "print(q)"
      ],
      "metadata": {
        "id": "LUYOVUonmW87",
        "colab": {
          "base_uri": "https://localhost:8080/"
        },
        "outputId": "2f8641cf-427f-4e0d-e446-ca3e4115ff51"
      },
      "execution_count": 18,
      "outputs": [
        {
          "output_type": "stream",
          "name": "stdout",
          "text": [
            "[-556211.56037242]\n",
            "[1804.7491]\n",
            "[422.653]\n"
          ]
        }
      ]
    },
    {
      "cell_type": "markdown",
      "source": [
        "e) [2.5 Marks] Plot the graph of the polynomials from (a), (b) and (c) in the domain [-20, 20] in one image (3 curves in total). Use at least 1000 samples for each curve."
      ],
      "metadata": {
        "id": "jTnxABS8mcHo"
      }
    },
    {
      "cell_type": "code",
      "source": [
        "x_vals = np.linspace(-20, 20, 1000)\n",
        "y_a = g(x_vals)\n",
        "y_b = a(x_vals)\n",
        "y_c = p(x_vals)\n",
        "plt.plot(x_vals, y_a, 'b-', label='Polynomial (a) - Min Degree')\n",
        "plt.title('Comparison of Polynomials from Parts (a)')\n",
        "plt.xlabel('x')\n",
        "plt.ylabel('y')\n",
        "plt.grid(True)\n",
        "plt.legend()\n"
      ],
      "metadata": {
        "id": "zuTUWkv0mdPU",
        "colab": {
          "base_uri": "https://localhost:8080/",
          "height": 489
        },
        "outputId": "32d2eaf2-13fb-41a0-b391-05d43b0a9029"
      },
      "execution_count": 22,
      "outputs": [
        {
          "output_type": "execute_result",
          "data": {
            "text/plain": [
              "<matplotlib.legend.Legend at 0x7bfec8504550>"
            ]
          },
          "metadata": {},
          "execution_count": 22
        },
        {
          "output_type": "display_data",
          "data": {
            "text/plain": [
              "<Figure size 640x480 with 1 Axes>"
            ],
            "image/png": "[encoded data removed]"
          },
          "metadata": {}
        }
      ]
    },
    {
      "cell_type": "code",
      "source": [
        "plt.plot(x_vals, y_c, 'g-', label='Polynomial (c) - Hermite')\n"
      ],
      "metadata": {
        "colab": {
          "base_uri": "https://localhost:8080/",
          "height": 452
        },
        "id": "ikmdfgk5vmcp",
        "outputId": "46c61c18-6e4d-4a39-e0af-056c05846a43"
      },
      "execution_count": 21,
      "outputs": [
        {
          "output_type": "execute_result",
          "data": {
            "text/plain": [
              "[<matplotlib.lines.Line2D at 0x7bfec84fd6d0>]"
            ]
          },
          "metadata": {},
          "execution_count": 21
        },
        {
          "output_type": "display_data",
          "data": {
            "text/plain": [
              "<Figure size 640x480 with 1 Axes>"
            ],
            "image/png": "[encoded data removed]"
          },
          "metadata": {}
        }
      ]
    },
    {
      "cell_type": "code",
      "source": [
        "plt.plot(x_vals, y_b, 'r-', label='Polynomial (b) - Higher Degree')"
      ],
      "metadata": {
        "colab": {
          "base_uri": "https://localhost:8080/",
          "height": 447
        },
        "id": "G0onP-pzviLm",
        "outputId": "e8b6057a-417c-42af-d2ec-30949e2788b7"
      },
      "execution_count": 20,
      "outputs": [
        {
          "output_type": "execute_result",
          "data": {
            "text/plain": [
              "[<matplotlib.lines.Line2D at 0x7bfec872c390>]"
            ]
          },
          "metadata": {},
          "execution_count": 20
        },
        {
          "output_type": "display_data",
          "data": {
            "text/plain": [
              "<Figure size 640x480 with 1 Axes>"
            ],
            "image/png": "[encoded data removed]"
          },
          "metadata": {}
        }
      ]
    },
    {
      "cell_type": "markdown",
      "source": [
        "f) [2.5 Marks] If the original function is the polynomial from (a) then find the absolute errors for both polynomials from (b) and (c) at all the following points: x = 1.5, 3.5"
      ],
      "metadata": {
        "id": "kvh9XE1NmpY0"
      }
    },
    {
      "cell_type": "code",
      "source": [
        "x=1.5\n",
        "y=3.5\n",
        "fn=a(x)\n",
        "fm=a(y)\n",
        "pn=p(x)\n",
        "pm=p(y)\n",
        "herm=g(x)\n",
        "her=g(y)\n",
        "error_b_x = abs(pn - fn)\n",
        "error_b_y = abs(pm - fm)\n",
        "error_c_x = abs(herm - fn)\n",
        "error_c_y = abs(her - fm)\n",
        "print(f\"Polynomial values at x = 1.5:\")\n",
        "print(f\"a(1.5) = {fn}\")\n",
        "print(f\"p(1.5) = {pn}\")\n",
        "print(f\"g(1.5) = {herm}\")\n",
        "\n",
        "print(f\"\\nPolynomial values at x = 3.5:\")\n",
        "print(f\"a(3.5) = {fm}\")\n",
        "print(f\"p(3.5) = {pm}\")\n",
        "print(f\"g(3.5) = {her}\")\n",
        "\n",
        "print(f\"\\nAbsolute errors:\")\n",
        "print(f\"Part (b) at x = 1.5: |p(1.5) - a(1.5)| = {error_b_x}\")\n",
        "print(f\"Part (b) at x = 3.5: |p(3.5) - a(3.5)| = {error_b_y}\")\n",
        "print(f\"Part (c) at x = 1.5: |g(1.5) - a(1.5)| = {error_c_x}\")\n",
        "print(f\"Part (c) at x = 3.5: |g(3.5) - a(3.5)| = {error_c_y}\")"
      ],
      "metadata": {
        "colab": {
          "base_uri": "https://localhost:8080/"
        },
        "id": "XtaDeG4mrtne",
        "outputId": "1ac2cb50-03e6-46c1-8220-c1492a937379"
      },
      "execution_count": 23,
      "outputs": [
        {
          "output_type": "stream",
          "name": "stdout",
          "text": [
            "Polynomial values at x = 1.5:\n",
            "a(1.5) = -2.8125000000000036\n",
            "p(1.5) = -1.8749999999999982\n",
            "g(1.5) = 3.561197916665378\n",
            "\n",
            "Polynomial values at x = 3.5:\n",
            "a(3.5) = 7.187500000000039\n",
            "p(3.5) = 8.12499999999999\n",
            "g(3.5) = 12.805989583311657\n",
            "\n",
            "Absolute errors:\n",
            "Part (b) at x = 1.5: |p(1.5) - a(1.5)| = 0.9375000000000053\n",
            "Part (b) at x = 3.5: |p(3.5) - a(3.5)| = 0.9374999999999503\n",
            "Part (c) at x = 1.5: |g(1.5) - a(1.5)| = 6.373697916665382\n",
            "Part (c) at x = 3.5: |g(3.5) - a(3.5)| = 5.618489583311618\n"
          ]
        }
      ]
    },
    {
      "cell_type": "code",
      "source": [],
      "metadata": {
        "id": "ZxDKfE7Mmp2s"
      },
      "execution_count": null,
      "outputs": []
    }
  ]
}